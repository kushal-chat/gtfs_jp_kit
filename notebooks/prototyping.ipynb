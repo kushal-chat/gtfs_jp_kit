{
 "cells": [
  {
   "cell_type": "code",
   "execution_count": null,
   "metadata": {},
   "outputs": [],
   "source": [
    "import datetime as dt\n",
    "import sys, os\n",
    "import dateutil.relativedelta as rd\n",
    "import json\n",
    "import pathlib as pl\n",
    "from typing import List\n",
    "import warnings\n",
    "\n",
    "import pandas as pd\n",
    "import numpy as np\n",
    "import geopandas as gpd\n",
    "import shapely\n",
    "import shapely.geometry as sg\n",
    "import shapely.ops as so\n",
    "import folium as fl\n",
    "\n",
    "DIR = pl.Path('..')\n",
    "sys.path.append(str(DIR))\n",
    "\n",
    "import gtfs_kit as gk\n",
    "\n",
    "\n",
    "warnings.filterwarnings('ignore')\n",
    "\n",
    "%load_ext autoreload\n",
    "%autoreload 2\n",
    "\n",
    "DATA = DIR / 'data'"
   ]
  },
  {
   "cell_type": "code",
   "execution_count": null,
   "metadata": {},
   "outputs": [],
   "source": [
    "#feed = gk.read_feed(DATA / \"cairns_gtfs.zip\", dist_units='m').append_dist_to_stop_times()\n",
    "feed_path = (\n",
    "    pl.Path.home() \n",
    "    / \"mrcagney/projects/transit_flows_data\"\n",
    "    / \"data/sources/auckland_20250211/auckland_gtfs_20250210.zip\"\n",
    ")\n",
    "feed = gk.read_feed(feed_path, dist_units=\"m\")\n",
    "dates = feed.get_first_week()[:1]\n",
    "route_id = \"CTY-202\"  # A non-simple looping route\n",
    "\n",
    "# Improve shape_dist_traveled field\n",
    "feed2 = feed.restrict_to_routes([route_id]).append_dist_to_stop_times()\n",
    "\n",
    "trip_id = feed2.get_trips(dates[0]).loc[lambda x: x[\"route_id\"] == route_id, \"trip_id\"].iat[0]\n",
    "m = feed2.map_trips([trip_id], show_stops=True, show_direction=True)\n",
    "\n",
    "gj = {\n",
    "  \"type\": \"FeatureCollection\",\n",
    "  \"features\": [\n",
    "    {\n",
    "      \"type\": \"Feature\",\n",
    "      \"properties\": {},\n",
    "      \"geometry\": {\n",
    "        \"coordinates\": [\n",
    "          [\n",
    "            174.76597006200313,\n",
    "            -36.84595455878999\n",
    "          ],\n",
    "          [\n",
    "            174.76639610648039,\n",
    "            -36.846031885888046\n",
    "          ]\n",
    "        ],\n",
    "        \"type\": \"LineString\"\n",
    "      }\n",
    "    }\n",
    "  ]\n",
    "}\n",
    "screen_line = gpd.GeoDataFrame.from_features(gj).set_crs(gk.WGS84)\n",
    "\n",
    "# Add screen line to map. Folium, why isn't this easier?!\n",
    "# Remove existing layer control and fit bounds\n",
    "keys_to_remove = [\n",
    "    key for key in m._children.keys() \n",
    "    if key.startswith('layer_control_') or key.startswith('fit_bounds_')\n",
    "]\n",
    "for key in keys_to_remove:\n",
    "    m._children.pop(key)\n",
    "\n",
    "# Create and add the new feature group of screen line\n",
    "fg = fl.FeatureGroup(name=\"Screen lines\")\n",
    "fl.GeoJson(\n",
    "    screen_line,     \n",
    "    style_function=lambda feature: {\n",
    "        'color': 'red',\n",
    "        'weight': 2,\n",
    "    },\n",
    ").add_to(fg)\n",
    "fg.add_to(m)\n",
    "\n",
    "# Add a new layer control and fit bounds\n",
    "fl.LayerControl().add_to(m)\n",
    "m.fit_bounds(fg.get_bounds())\n",
    "\n",
    "display(m)\n",
    "\n",
    "# Show screen line counts restricted to trip\n",
    "slc = feed2.compute_screen_line_counts(screen_line, dates=dates, segmentize_m=1)\n",
    "slc.loc[lambda x: x[\"trip_id\"] == trip_id]\n"
   ]
  },
  {
   "cell_type": "code",
   "execution_count": null,
   "metadata": {},
   "outputs": [],
   "source": [
    "display(feed.stop_times.loc[lambda x: x[\"trip_id\"] == trip_id])\n",
    "feed.restrict_to_routes([route_id]).append_dist_to_stop_times().stop_times.loc[lambda x: x[\"trip_id\"] == trip_id]"
   ]
  },
  {
   "cell_type": "code",
   "execution_count": null,
   "metadata": {},
   "outputs": [],
   "source": [
    "feed.append_dist_to_stop_times?"
   ]
  },
  {
   "cell_type": "code",
   "execution_count": null,
   "metadata": {},
   "outputs": [],
   "source": [
    "feed_path = \"http://web.mta.info/developers/data/nyct/subway/google_transit.zip\"\n",
    "feed = gk.read_feed(feed_path, dist_units=\"mi\")\n",
    "\n",
    "# Grab a stop with a parent station\n",
    "stop_id = feed.stops.loc[lambda x: x[\"parent_station\"].notna(), \"stop_id\"].iat[0]\n",
    "parent_id = feed.stops.loc[lambda x: x[\"stop_id\"] == stop_id, \"parent_station\"].iat[0]\n",
    "# Get one of its trips\n",
    "trip_id = feed.stop_times.loc[lambda x: x[\"stop_id\"] == stop_id, \"trip_id\"].iat[0]\n",
    "# Restrict feed to that trip and resulting feed should have that parent station\n",
    "feed2 = feed.restrict_to_trips([trip_id])\n",
    "assert parent_id in feed2.stops[\"stop_id\"].values\n",
    "assert parent_id in feed2.transfers[\"from_stop_id\"].values"
   ]
  },
  {
   "cell_type": "code",
   "execution_count": null,
   "metadata": {},
   "outputs": [],
   "source": [
    "feed.get_shapes(as_gdf=True)"
   ]
  },
  {
   "cell_type": "code",
   "execution_count": null,
   "metadata": {},
   "outputs": [],
   "source": [
    "gk.geometrize_shapes(feed.shapes.iloc[:1])"
   ]
  },
  {
   "cell_type": "code",
   "execution_count": null,
   "metadata": {},
   "outputs": [],
   "source": [
    "ts = feed.compute_trip_stats()\n",
    "display(ts.head().T)\n",
    "ts.to_csv(DATA / \"cairns_trip_stats.csv\", index=False)"
   ]
  },
  {
   "cell_type": "code",
   "execution_count": null,
   "metadata": {},
   "outputs": [],
   "source": [
    "# Maybe a useful function to add\n",
    "def compute_stop_time_stats(feed):\n",
    "    if \"shape_dist_traveled\" in feed.stop_times.columns:\n",
    "        st = feed.stop_times.copy()\n",
    "    else:\n",
    "        st = feed.append_dist_to_stop_times().stop_times\n",
    "    f = st.sort_values([\"trip_id\", \"stop_sequence\"])\n",
    "\n",
    "    # Choose strategy for calculating duration to next stop\n",
    "    if (\n",
    "        f[\"arrival_time\"].count() > 0.5 * f[\"arrival_time\"].shape[0] \n",
    "        and f[\"departure_time\"].count() > 0.5 * f[\"departure_time\"].shape[0]\n",
    "    ):\n",
    "        # Use stop departure to next stop arrival as duration\n",
    "        f[\"atime\"] = f[\"arrival_time\"].map(gk.timestr_to_seconds)\n",
    "        f[\"dtime\"] = f[\"departure_time\"].map(gk.timestr_to_seconds)\n",
    "        f[\"duration_to_next_stop\"] = f.groupby(\"trip_id\")[\"atime\"].shift(-1) - f[\"dtime\"] \n",
    "    elif f[\"arrival_time\"].count() > 0.5 * f[\"arrival_time\"].shape[0]:\n",
    "        # Use stop arrival to next stop arrival as duration\n",
    "        f[\"atime\"] = f[\"arrival_time\"].apply(gk.timestr_to_seconds)\n",
    "        f[\"duration_to_next_stop\"] = f.groupby(\"trip_id\")[\"atime\"].diff().shift(-1) \n",
    "    else:\n",
    "        # Nothing satisfactory, so just use departure times and get many NAs\n",
    "        f[\"dtime\"] = f[\"departure_time\"].map(gk.timestr_to_seconds)\n",
    "        f[\"duration_to_next_stop\"] = f.groupby(\"trip_id\")[\"dtime\"].diff().shift(-1) \n",
    "\n",
    "    # convert to km or mi\n",
    "    if gk.is_metric(feed.dist_units):\n",
    "        g = gk.get_convert_dist(feed.dist_units, \"km\")\n",
    "    else:\n",
    "        g = gk.get_convert_dist(feed.dist_units, \"mi\")\n",
    "\n",
    "    f[\"distance_to_next_stop\"] = f.groupby('trip_id')['shape_dist_traveled'].diff().shift(-1)  # feed.dist_units\n",
    "    f[\"speed_to_next_stop\"] = f[\"distance_to_next_stop\"].map(g) / (f[\"duration_to_next_stop\"] / 3600) # km/h or mi/h\n",
    "    return f.drop([\"atime\", \"dtime\"], axis=1)\n",
    "\n",
    "compute_stop_time_stats(feed).head(38)\n",
    "    \n"
   ]
  },
  {
   "cell_type": "code",
   "execution_count": null,
   "metadata": {},
   "outputs": [],
   "source": [
    "g = feed.geometrize_stops()\n",
    "p = g[\"geometry\"].iat[0]\n",
    "type(p)\n",
    "q = sg.MultiPoint([p, p])\n",
    "list(q.geoms)"
   ]
  },
  {
   "cell_type": "code",
   "execution_count": null,
   "metadata": {},
   "outputs": [],
   "source": [
    "feed.map_trips(trip_ids[:1], include_stops=True, include_arrows=True)"
   ]
  },
  {
   "cell_type": "code",
   "execution_count": null,
   "metadata": {},
   "outputs": [],
   "source": [
    "dates = feed.get_first_week()[6:]\n",
    "activity = feed.compute_trip_activity(dates)\n",
    "display(activity)\n",
    "\n",
    "trip_ids = activity.loc[\n",
    "    lambda x: x.filter(dates).sum(axis=1) > 0,\n",
    "    \"trip_id\",\n",
    "]\n",
    "trip_ids"
   ]
  },
  {
   "cell_type": "code",
   "execution_count": null,
   "metadata": {},
   "outputs": [],
   "source": [
    "feed.trips"
   ]
  },
  {
   "cell_type": "code",
   "execution_count": null,
   "metadata": {},
   "outputs": [],
   "source": [
    "dates = feed.get_first_week()[:1] + [\"20010101\"]\n",
    "\n",
    "path = DATA_DIR / \"cairns_screen_lines.geojson\"\n",
    "screen_lines = gpd.read_file(path)\n",
    "f = feed.compute_screen_line_counts(screen_lines, dates)\n",
    "f"
   ]
  },
  {
   "cell_type": "code",
   "execution_count": null,
   "metadata": {},
   "outputs": [],
   "source": [
    "path = DATA_DIR/'cairns_gtfs.zip'\n",
    "gk.list_feed(path)\n",
    "\n"
   ]
  },
  {
   "cell_type": "code",
   "execution_count": null,
   "metadata": {},
   "outputs": [],
   "source": [
    "feed = (\n",
    "    gk.read_feed(path, dist_units='km')\n",
    "    .append_dist_to_stop_times()\n",
    ")\n",
    "feed.describe()"
   ]
  },
  {
   "cell_type": "code",
   "execution_count": null,
   "metadata": {},
   "outputs": [],
   "source": [
    "shapes = feed.geometrize_shapes(use_utm=True)\n",
    "shapes.crs\n",
    "screen_lines = screen_lines.to_crs(shapes.crs)\n",
    "screen_lines"
   ]
  },
  {
   "cell_type": "code",
   "execution_count": null,
   "metadata": {},
   "outputs": [],
   "source": [
    "url = \"http://transitfeeds.com/p/10-15-transit/936/latest/download\"\n",
    "gk.read_feed(url, dist_units=\"km\").describe()"
   ]
  },
  {
   "cell_type": "code",
   "execution_count": null,
   "metadata": {},
   "outputs": [],
   "source": [
    "(\n",
    "    g1.crossing_time.equals(g2.crossing_time),\n",
    "    g1.crossing_direction.equals(g2.orientation)\n",
    ")"
   ]
  },
  {
   "cell_type": "code",
   "execution_count": null,
   "metadata": {},
   "outputs": [],
   "source": [
    "feed.map_routes(feed.routes.route_id.iloc[:4], include_stops=False)\n"
   ]
  },
  {
   "cell_type": "code",
   "execution_count": null,
   "metadata": {},
   "outputs": [],
   "source": []
  }
 ],
 "metadata": {
  "kernelspec": {
   "display_name": "Python 3 (ipykernel)",
   "language": "python",
   "name": "python3"
  },
  "language_info": {
   "codemirror_mode": {
    "name": "ipython",
    "version": 3
   },
   "file_extension": ".py",
   "mimetype": "text/x-python",
   "name": "python",
   "nbconvert_exporter": "python",
   "pygments_lexer": "ipython3",
   "version": "3.12.3"
  }
 },
 "nbformat": 4,
 "nbformat_minor": 4
}
