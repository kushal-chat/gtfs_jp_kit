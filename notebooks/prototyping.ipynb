{
 "cells": [
  {
   "cell_type": "code",
   "execution_count": null,
   "metadata": {},
   "outputs": [],
   "source": [
    "import datetime as dt\n",
    "import sys, os\n",
    "import dateutil.relativedelta as rd\n",
    "import json\n",
    "from pathlib import Path\n",
    "from typing import List\n",
    "\n",
    "import utm\n",
    "import pandas as pd\n",
    "import numpy as np\n",
    "import geopandas as gpd\n",
    "import shapely.geometry as sg\n",
    "import shapely.ops as so\n",
    "\n",
    "DIR = Path('..')\n",
    "sys.path.append(str(DIR))\n",
    "\n",
    "import gtfs_kit as gk\n",
    "\n",
    "%load_ext autoreload\n",
    "%autoreload 2\n",
    "\n",
    "DATA_DIR = DIR / 'data'"
   ]
  },
  {
   "cell_type": "code",
   "execution_count": null,
   "metadata": {},
   "outputs": [],
   "source": [
    "path = DATA_DIR / 'zou_gtfs.zip'\n",
    "feed = gk.read_feed(path, dist_units='km')\n",
    "feed.describe()"
   ]
  },
  {
   "cell_type": "code",
   "execution_count": null,
   "metadata": {},
   "outputs": [],
   "source": [
    "feed.stop_times.sort_values([\"trip_id\", \"stop_sequence\"])"
   ]
  },
  {
   "cell_type": "code",
   "execution_count": null,
   "metadata": {},
   "outputs": [],
   "source": [
    "path = DATA_DIR/'cairns_gtfs.zip'\n",
    "feed = gk.read_feed(path, dist_units='km')\n",
    "feed.describe()"
   ]
  },
  {
   "cell_type": "code",
   "execution_count": null,
   "metadata": {},
   "outputs": [],
   "source": [
    "feed.validate()"
   ]
  },
  {
   "cell_type": "code",
   "execution_count": null,
   "metadata": {},
   "outputs": [],
   "source": [
    "feed.map_routes(feed.routes[\"route_id\"])"
   ]
  },
  {
   "cell_type": "code",
   "execution_count": null,
   "metadata": {},
   "outputs": [],
   "source": [
    "g = feed.geometrize_stops()\n",
    "p = g[\"geometry\"].iat[0]\n",
    "type(p)\n",
    "q = sg.MultiPoint([p, p])\n",
    "list(q.geoms)"
   ]
  },
  {
   "cell_type": "code",
   "execution_count": null,
   "metadata": {},
   "outputs": [],
   "source": [
    "feed.map_trips(trip_ids[:1], include_stops=True, include_arrows=True)"
   ]
  },
  {
   "cell_type": "code",
   "execution_count": null,
   "metadata": {},
   "outputs": [],
   "source": [
    "dates = feed.get_first_week()[6:]\n",
    "activity = feed.compute_trip_activity(dates)\n",
    "display(activity)\n",
    "\n",
    "trip_ids = activity.loc[\n",
    "    lambda x: x.filter(dates).sum(axis=1) > 0,\n",
    "    \"trip_id\",\n",
    "]\n",
    "trip_ids"
   ]
  },
  {
   "cell_type": "code",
   "execution_count": null,
   "metadata": {},
   "outputs": [],
   "source": [
    "feed.trips"
   ]
  },
  {
   "cell_type": "code",
   "execution_count": null,
   "metadata": {},
   "outputs": [],
   "source": [
    "dates = feed.get_first_week()[:1] + [\"20010101\"]\n",
    "\n",
    "path = DATA_DIR / \"cairns_screen_lines.geojson\"\n",
    "screen_lines = gpd.read_file(path)\n",
    "f = feed.compute_screen_line_counts(screen_lines, dates)\n",
    "f"
   ]
  },
  {
   "cell_type": "code",
   "execution_count": null,
   "metadata": {},
   "outputs": [],
   "source": [
    "path = DATA_DIR/'cairns_gtfs.zip'\n",
    "gk.list_feed(path)\n",
    "\n"
   ]
  },
  {
   "cell_type": "code",
   "execution_count": null,
   "metadata": {},
   "outputs": [],
   "source": [
    "feed = (\n",
    "    gk.read_feed(path, dist_units='km')\n",
    "    .append_dist_to_stop_times()\n",
    ")\n",
    "feed.describe()"
   ]
  },
  {
   "cell_type": "code",
   "execution_count": null,
   "metadata": {},
   "outputs": [],
   "source": [
    "shapes = feed.geometrize_shapes(use_utm=True)\n",
    "shapes.crs\n",
    "screen_lines = screen_lines.to_crs(shapes.crs)\n",
    "screen_lines"
   ]
  },
  {
   "cell_type": "code",
   "execution_count": null,
   "metadata": {},
   "outputs": [],
   "source": [
    "url = \"http://transitfeeds.com/p/10-15-transit/936/latest/download\"\n",
    "gk.read_feed(url, dist_units=\"km\").describe()"
   ]
  },
  {
   "cell_type": "code",
   "execution_count": null,
   "metadata": {},
   "outputs": [],
   "source": [
    "(\n",
    "    g1.crossing_time.equals(g2.crossing_time),\n",
    "    g1.crossing_direction.equals(g2.orientation)\n",
    ")"
   ]
  },
  {
   "cell_type": "code",
   "execution_count": null,
   "metadata": {},
   "outputs": [],
   "source": [
    "feed.map_routes(feed.routes.route_id.iloc[:4], include_stops=False)\n"
   ]
  },
  {
   "cell_type": "code",
   "execution_count": null,
   "metadata": {},
   "outputs": [],
   "source": []
  }
 ],
 "metadata": {
  "kernelspec": {
   "display_name": "Python 3 (ipykernel)",
   "language": "python",
   "name": "python3"
  },
  "language_info": {
   "codemirror_mode": {
    "name": "ipython",
    "version": 3
   },
   "file_extension": ".py",
   "mimetype": "text/x-python",
   "name": "python",
   "nbconvert_exporter": "python",
   "pygments_lexer": "ipython3",
   "version": "3.10.6"
  }
 },
 "nbformat": 4,
 "nbformat_minor": 1
}
