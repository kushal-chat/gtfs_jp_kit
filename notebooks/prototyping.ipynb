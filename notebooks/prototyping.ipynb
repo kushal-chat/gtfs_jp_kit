{
 "cells": [
  {
   "cell_type": "code",
   "execution_count": null,
   "metadata": {},
   "outputs": [],
   "source": [
    "import datetime as dt\n",
    "import sys, os\n",
    "import dateutil.relativedelta as rd\n",
    "import json\n",
    "from pathlib import Path\n",
    "from typing import List\n",
    "import warnings\n",
    "\n",
    "import utm\n",
    "import pandas as pd\n",
    "import numpy as np\n",
    "import geopandas as gpd\n",
    "import shapely.geometry as sg\n",
    "import shapely.ops as so\n",
    "\n",
    "DIR = Path('..')\n",
    "sys.path.append(str(DIR))\n",
    "\n",
    "import gtfs_kit as gk\n",
    "\n",
    "\n",
    "warnings.filterwarnings('ignore')\n",
    "\n",
    "%load_ext autoreload\n",
    "%autoreload 2\n",
    "\n",
    "DATA_DIR = DIR / 'data'"
   ]
  },
  {
   "cell_type": "code",
   "execution_count": null,
   "metadata": {},
   "outputs": [],
   "source": [
    "path = DATA_DIR/'cairns_gtfs.zip'\n",
    "feed = gk.read_feed(path, dist_units='m')\n",
    "feed.describe()"
   ]
  },
  {
   "cell_type": "code",
   "execution_count": null,
   "metadata": {},
   "outputs": [],
   "source": [
    "feed.validate()"
   ]
  },
  {
   "cell_type": "code",
   "execution_count": null,
   "metadata": {},
   "outputs": [],
   "source": [
    "\n",
    "# Maybe a useful function to add\n",
    "def compute_stop_time_stats(feed):\n",
    "    if \"shape_dist_traveled\" in feed.stop_times.columns:\n",
    "        st = feed.stop_times.copy()\n",
    "    else:\n",
    "        st = feed.append_dist_to_stop_times().stop_times\n",
    "    f = st.sort_values([\"trip_id\", \"stop_sequence\"])\n",
    "\n",
    "    # Choose strategy for calculating duration to next stop\n",
    "    if (\n",
    "        f[\"arrival_time\"].count() > 0.5 * f[\"arrival_time\"].shape[0] \n",
    "        and f[\"departure_time\"].count() > 0.5 * f[\"departure_time\"].shape[0]\n",
    "    ):\n",
    "        # Use stop departure to next stop arrival as duration\n",
    "        f[\"atime\"] = f[\"arrival_time\"].map(gk.timestr_to_seconds)\n",
    "        f[\"dtime\"] = f[\"departure_time\"].map(gk.timestr_to_seconds)\n",
    "        f[\"duration_to_next_stop\"] = f.groupby(\"trip_id\")[\"atime\"].shift(-1) - f[\"dtime\"] \n",
    "    elif f[\"arrival_time\"].count() > 0.5 * f[\"arrival_time\"].shape[0]:\n",
    "        # Use stop arrival to next stop arrival as duration\n",
    "        f[\"atime\"] = f[\"arrival_time\"].apply(gk.timestr_to_seconds)\n",
    "        f[\"duration_to_next_stop\"] = f.groupby(\"trip_id\")[\"atime\"].diff().shift(-1) \n",
    "    else:\n",
    "        # Nothing satisfactory, so just use departure times and get many NAs\n",
    "        f[\"dtime\"] = f[\"departure_time\"].map(gk.timestr_to_seconds)\n",
    "        f[\"duration_to_next_stop\"] = f.groupby(\"trip_id\")[\"dtime\"].diff().shift(-1) \n",
    "\n",
    "    # convert to km or mi\n",
    "    if gk.is_metric(feed.dist_units):\n",
    "        g = gk.get_convert_dist(feed.dist_units, \"km\")\n",
    "    else:\n",
    "        g = gk.get_convert_dist(feed.dist_units, \"mi\")\n",
    "\n",
    "    f[\"distance_to_next_stop\"] = f.groupby('trip_id')['shape_dist_traveled'].diff().shift(-1)  # feed.dist_units\n",
    "    f[\"speed_to_next_stop\"] = f[\"distance_to_next_stop\"].map(g) / (f[\"duration_to_next_stop\"] / 3600) # km/h or mi/h\n",
    "    return f.drop([\"atime\", \"dtime\"], axis=1)\n",
    "\n",
    "compute_stop_time_stats(feed).head(38)\n",
    "    \n"
   ]
  },
  {
   "cell_type": "code",
   "execution_count": null,
   "metadata": {},
   "outputs": [],
   "source": [
    "g = feed.geometrize_stops()\n",
    "p = g[\"geometry\"].iat[0]\n",
    "type(p)\n",
    "q = sg.MultiPoint([p, p])\n",
    "list(q.geoms)"
   ]
  },
  {
   "cell_type": "code",
   "execution_count": null,
   "metadata": {},
   "outputs": [],
   "source": [
    "feed.map_trips(trip_ids[:1], include_stops=True, include_arrows=True)"
   ]
  },
  {
   "cell_type": "code",
   "execution_count": null,
   "metadata": {},
   "outputs": [],
   "source": [
    "dates = feed.get_first_week()[6:]\n",
    "activity = feed.compute_trip_activity(dates)\n",
    "display(activity)\n",
    "\n",
    "trip_ids = activity.loc[\n",
    "    lambda x: x.filter(dates).sum(axis=1) > 0,\n",
    "    \"trip_id\",\n",
    "]\n",
    "trip_ids"
   ]
  },
  {
   "cell_type": "code",
   "execution_count": null,
   "metadata": {},
   "outputs": [],
   "source": [
    "feed.trips"
   ]
  },
  {
   "cell_type": "code",
   "execution_count": null,
   "metadata": {},
   "outputs": [],
   "source": [
    "dates = feed.get_first_week()[:1] + [\"20010101\"]\n",
    "\n",
    "path = DATA_DIR / \"cairns_screen_lines.geojson\"\n",
    "screen_lines = gpd.read_file(path)\n",
    "f = feed.compute_screen_line_counts(screen_lines, dates)\n",
    "f"
   ]
  },
  {
   "cell_type": "code",
   "execution_count": null,
   "metadata": {},
   "outputs": [],
   "source": [
    "path = DATA_DIR/'cairns_gtfs.zip'\n",
    "gk.list_feed(path)\n",
    "\n"
   ]
  },
  {
   "cell_type": "code",
   "execution_count": null,
   "metadata": {},
   "outputs": [],
   "source": [
    "feed = (\n",
    "    gk.read_feed(path, dist_units='km')\n",
    "    .append_dist_to_stop_times()\n",
    ")\n",
    "feed.describe()"
   ]
  },
  {
   "cell_type": "code",
   "execution_count": null,
   "metadata": {},
   "outputs": [],
   "source": [
    "shapes = feed.geometrize_shapes(use_utm=True)\n",
    "shapes.crs\n",
    "screen_lines = screen_lines.to_crs(shapes.crs)\n",
    "screen_lines"
   ]
  },
  {
   "cell_type": "code",
   "execution_count": null,
   "metadata": {},
   "outputs": [],
   "source": [
    "url = \"http://transitfeeds.com/p/10-15-transit/936/latest/download\"\n",
    "gk.read_feed(url, dist_units=\"km\").describe()"
   ]
  },
  {
   "cell_type": "code",
   "execution_count": null,
   "metadata": {},
   "outputs": [],
   "source": [
    "(\n",
    "    g1.crossing_time.equals(g2.crossing_time),\n",
    "    g1.crossing_direction.equals(g2.orientation)\n",
    ")"
   ]
  },
  {
   "cell_type": "code",
   "execution_count": null,
   "metadata": {},
   "outputs": [],
   "source": [
    "feed.map_routes(feed.routes.route_id.iloc[:4], include_stops=False)\n"
   ]
  },
  {
   "cell_type": "code",
   "execution_count": null,
   "metadata": {},
   "outputs": [],
   "source": []
  }
 ],
 "metadata": {
  "kernelspec": {
   "display_name": "Python 3 (ipykernel)",
   "language": "python",
   "name": "python3"
  },
  "language_info": {
   "codemirror_mode": {
    "name": "ipython",
    "version": 3
   },
   "file_extension": ".py",
   "mimetype": "text/x-python",
   "name": "python",
   "nbconvert_exporter": "python",
   "pygments_lexer": "ipython3",
   "version": "3.10.12"
  }
 },
 "nbformat": 4,
 "nbformat_minor": 4
}
